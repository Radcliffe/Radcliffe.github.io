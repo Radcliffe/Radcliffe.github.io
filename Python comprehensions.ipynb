{
 "cells": [
  {
   "cell_type": "markdown",
   "metadata": {
    "slideshow": {
     "slide_type": "slide"
    }
   },
   "source": [
    "# Python comprehensions\n",
    "\n",
    "**Comprehension** is a kind of notation used to define sets and set-like objects.\n",
    "\n",
    "Python has four kinds of comprehensions:\n",
    "\n",
    "1. List comprehension\n",
    "2. Set comprehension\n",
    "3. Dictionary comprehension\n",
    "4. Generator comprehensions\n",
    "\n",
    "The idea comes from mathematical set theory."
   ]
  },
  {
   "cell_type": "markdown",
   "metadata": {
    "slideshow": {
     "slide_type": "slide"
    }
   },
   "source": [
    "# How do you write a set?\n",
    "\n",
    "If the set is small, then we just list the elements inside curly brackets.\n",
    "\n",
    "This is called **roster notation**.\n",
    "\n",
    "$$S = \\{1, 3, 5, 7, 9\\}$$"
   ]
  },
  {
   "cell_type": "code",
   "execution_count": 1,
   "metadata": {},
   "outputs": [
    {
     "name": "stdout",
     "output_type": "stream",
     "text": [
      "<class 'set'>\n"
     ]
    }
   ],
   "source": [
    "S = {1, 3, 5, 7, 9}\n",
    "print(type(S))"
   ]
  },
  {
   "cell_type": "markdown",
   "metadata": {
    "slideshow": {
     "slide_type": "slide"
    }
   },
   "source": [
    "# Sets in Python\n",
    "Python has many operations and methods for working with sets."
   ]
  },
  {
   "cell_type": "code",
   "execution_count": 2,
   "metadata": {},
   "outputs": [
    {
     "name": "stdout",
     "output_type": "stream",
     "text": [
      "S has 4 elements.\n",
      "S ∪ T = {1, 2, 3, 4, 5, 6}\n",
      "S ∩ T = {3, 4}\n",
      "S \\ T = {1, 2}\n",
      "S ∆ T = {1, 2, 5, 6}\n",
      "Add the element 7 to S\n",
      "S = {1, 2, 3, 4, 7}\n",
      "Remove the element 1 from S\n",
      "S = {2, 3, 4, 7}\n"
     ]
    }
   ],
   "source": [
    "S = set({1, 2, 3, 4})\n",
    "T = set({3, 4, 5, 6})\n",
    "print('S has %d elements.' % len(S))\n",
    "print('S ∪ T =', S | T)\n",
    "print('S ∩ T =', S & T)\n",
    "print('S \\ T =', S - T)\n",
    "print('S ∆ T =', S ^ T)\n",
    "print('Add the element 7 to S')\n",
    "S.add(7); print('S =', S)\n",
    "print('Remove the element 1 from S')\n",
    "S.remove(1); print('S =', S)"
   ]
  },
  {
   "cell_type": "markdown",
   "metadata": {
    "slideshow": {
     "slide_type": "slide"
    }
   },
   "source": [
    "# Iterating over sets\n",
    "\n",
    "We can use for-loops to iterate over the elements of a set. \n",
    "\n",
    "Note that the order of the elements is **not** guaranteed, because sets are unordered."
   ]
  },
  {
   "cell_type": "code",
   "execution_count": 3,
   "metadata": {},
   "outputs": [
    {
     "name": "stdout",
     "output_type": "stream",
     "text": [
      "496 is a perfect number\n",
      "28 is a perfect number\n",
      "6 is a perfect number\n",
      "8128 is a perfect number\n"
     ]
    }
   ],
   "source": [
    "S = {6, 28, 496, 8128}\n",
    "for p in S:\n",
    "    print(p, 'is a perfect number')"
   ]
  },
  {
   "cell_type": "markdown",
   "metadata": {
    "slideshow": {
     "slide_type": "slide"
    }
   },
   "source": [
    "# What are sets used for?\n",
    "\n",
    "## Deduplication\n",
    "Removing duplicates from a list."
   ]
  },
  {
   "cell_type": "code",
   "execution_count": 4,
   "metadata": {
    "slideshow": {
     "slide_type": "-"
    }
   },
   "outputs": [
    {
     "name": "stdout",
     "output_type": "stream",
     "text": [
      "['-', 'A', 'R', 'T']\n"
     ]
    }
   ],
   "source": [
    "print(sorted(set('RAT-A-TAT-TAT')))"
   ]
  },
  {
   "cell_type": "markdown",
   "metadata": {
    "slideshow": {
     "slide_type": "slide"
    }
   },
   "source": [
    "## Graph search\n",
    "\n",
    "Store visited nodes in a set to avoid visiting them again.\n",
    "\n",
    "<img src=\"https://i.stack.imgur.com/4yHMv.png\" />"
   ]
  },
  {
   "cell_type": "markdown",
   "metadata": {
    "slideshow": {
     "slide_type": "slide"
    }
   },
   "source": [
    "# How do you write an infinite set?\n",
    "\n",
    "Sometimes we can use an ellipsis, if the pattern is obvious.\n",
    "\n",
    "$$ S = \\{1, 3, 5, 7, 9, 11, \\ldots\\}$$"
   ]
  },
  {
   "cell_type": "markdown",
   "metadata": {},
   "source": [
    "But what if the pattern is not obvious?\n",
    "\n",
    "$$ S = \\{1, 11, 21, 1211, 111221, 312211, 13112221, \\ldots\\}$$\n",
    "\n",
    "**Idea:** We can define a set by describing a property that its elements satisfy.\n",
    "\n",
    "This is called **set comprehension**.\n",
    "\n",
    "For example, the set of all odd numbers can be written as $\\{n: n\\text{ is odd}\\}$ instead of\n",
    "$\\{1, 3, 5, 7, 9, 11, \\ldots\\}$."
   ]
  },
  {
   "cell_type": "markdown",
   "metadata": {
    "slideshow": {
     "slide_type": "slide"
    }
   },
   "source": [
    "# The Axiom of Comprehension\n",
    "\n",
    "The **axiom of comprehension** states that for every property $P$, there is a set $S$ consisting of all elements $x$ which satisfy property $P$. In symbols,\n",
    "\n",
    "$$ x \\in S \\iff P(x) \\text{ is true}$$\n",
    "\n",
    "or\n",
    "\n",
    "$$ S = \\{x : P(x)\\} $$\n",
    "\n",
    "It was proposed by Gottlob Frege (1848-1925), and it seemed like a good idea at the time.\n",
    "\n",
    "<img src=\"http://www.iep.utm.edu/wp-content/media/Frege-209x300.jpg\"/>"
   ]
  },
  {
   "cell_type": "markdown",
   "metadata": {
    "slideshow": {
     "slide_type": "slide"
    }
   },
   "source": [
    "## Russell's Paradox\n",
    "\n",
    "<img src=\"https://cdn8.openculture.com/wp-content/uploads/2015/05/20002051/betrand-russell-uncertainty.jpg\" height=\"150\"/>\n",
    "\n",
    "However, Bertrand Russell (1872-1970) proved that this simple idea leads to a paradox.\n",
    "\n",
    "Consider the property $x \\notin x$ ($x$ is not an element of itself).\n",
    "\n",
    "According to the Axiom of Comprehension, there exists a set $S$ consisting of all\n",
    "sets that are not elements of themselves.\n",
    "\n",
    "$$S = \\{x : x \\notin x\\}$$"
   ]
  },
  {
   "cell_type": "markdown",
   "metadata": {
    "slideshow": {
     "slide_type": "slide"
    }
   },
   "source": [
    "Note that\n",
    "\n",
    "* If $x \\notin x$ then $x \\in S$.\n",
    "* If $x \\in x$ then $x \\notin  S$.\n",
    "\n",
    "Replacing $x$ with $S$ creates a paradox.\n",
    "\n",
    "* If $S \\notin S$ then $S \\in S$.\n",
    "* If $S \\in S$ then $S \\notin S$.\n",
    "\n",
    "Thus, $S$ is in $S$ if and only if $S$ is **not** in $S$. This is impossible!"
   ]
  },
  {
   "cell_type": "markdown",
   "metadata": {
    "slideshow": {
     "slide_type": "slide"
    }
   },
   "source": [
    "# Restricted Comprehension\n",
    "\n",
    "We can get around Russell's Paradox by using comprehension only to define subsets of a given set.\n",
    "\n",
    "**Restricted Axiom of Comprehension:** Given a set $S$ and a property $P$, there exists a set $A$\n",
    "consisting of all elements of $S$ that satisfy $P$.\n",
    "\n",
    "$$A = \\{x \\in S: P(x)\\}.$$\n",
    "\n",
    "The Python syntax closely resembles the mathematical notation."
   ]
  },
  {
   "cell_type": "code",
   "execution_count": 5,
   "metadata": {},
   "outputs": [
    {
     "name": "stdout",
     "output_type": "stream",
     "text": [
      "{1, 3, 5, 7, 9}\n"
     ]
    }
   ],
   "source": [
    "S = range(10)\n",
    "P = lambda x: x % 2 == 1\n",
    "A = {x for x in S if P(x)}\n",
    "print(A)"
   ]
  },
  {
   "cell_type": "markdown",
   "metadata": {
    "slideshow": {
     "slide_type": "slide"
    }
   },
   "source": [
    "# Examples of Comprehension"
   ]
  },
  {
   "cell_type": "code",
   "execution_count": 6,
   "metadata": {},
   "outputs": [
    {
     "name": "stdout",
     "output_type": "stream",
     "text": [
      "['nobody', 'expects', 'the', 'spanish', 'inquisition']\n"
     ]
    }
   ],
   "source": [
    "s = \"Nobody expects the Spanish Inquisition\"\n",
    "words = [word.lower() for word in s.split()]\n",
    "print(words)"
   ]
  },
  {
   "cell_type": "code",
   "execution_count": 7,
   "metadata": {},
   "outputs": [
    {
     "name": "stdout",
     "output_type": "stream",
     "text": [
      "{'up', 'so', 'the', 'what', 'wonder', 'high', 'like', 'star', 'little', 'how', 'a', 'sky', 'i', 'you', 'above', 'in', 'world', 'diamond', 'twinkle', 'are'}\n"
     ]
    }
   ],
   "source": [
    "longtext = \"\"\"\n",
    "Twinkle twinkle little star\n",
    "How I wonder what you are\n",
    "Up above the world so high\n",
    "Like a diamond in the sky\"\"\"\n",
    "\n",
    "words = {word.lower() for line in longtext.split('\\n') for word in line.split()}\n",
    "print(words)"
   ]
  },
  {
   "cell_type": "markdown",
   "metadata": {
    "slideshow": {
     "slide_type": "slide"
    }
   },
   "source": [
    "# Example of a Dictionary Comprehension\n",
    "\n"
   ]
  },
  {
   "cell_type": "code",
   "execution_count": 8,
   "metadata": {},
   "outputs": [
    {
     "name": "stdout",
     "output_type": "stream",
     "text": [
      "{'up': 2, 'so': 2, 'the': 3, 'what': 4, 'wonder': 6, 'high': 4, 'like': 4, 'star': 4, 'little': 6, 'how': 3, 'a': 1, 'sky': 3, 'i': 1, 'you': 3, 'above': 5, 'in': 2, 'world': 5, 'diamond': 7, 'twinkle': 7, 'are': 3}\n",
      "The word \"high\" has 4 letters\n"
     ]
    }
   ],
   "source": [
    "wordlengths = {word: len(word) for word in words}\n",
    "print(wordlengths)\n",
    "print('The word \"%s\" has %d letters' % ('high', wordlengths['high']))"
   ]
  },
  {
   "cell_type": "markdown",
   "metadata": {
    "slideshow": {
     "slide_type": "slide"
    }
   },
   "source": [
    "# Example of an Iterator Comprehension\n",
    "\n",
    "Find the longest words in Jane Austen's *Emma*."
   ]
  },
  {
   "cell_type": "code",
   "execution_count": 9,
   "metadata": {},
   "outputs": [
    {
     "name": "stdout",
     "output_type": "stream",
     "text": [
      "[nltk_data] Downloading package gutenberg to\n",
      "[nltk_data]     /Users/davidradcliffe/nltk_data...\n",
      "[nltk_data]   Package gutenberg is already up-to-date!\n",
      "   misunderstandings occurs 4 times\n",
      "   companionableness occurs 1 times\n",
      "    misunderstanding occurs 1 times\n",
      "    incomprehensible occurs 1 times\n",
      "    undistinguishing occurs 1 times\n",
      "   unceremoniousness occurs 1 times\n",
      "    disingenuousness occurs 1 times\n",
      "    disagreeableness occurs 1 times\n",
      "   disinterestedness occurs 1 times\n",
      "    unseasonableness occurs 1 times\n"
     ]
    }
   ],
   "source": [
    "import nltk\n",
    "nltk.download('gutenberg')\n",
    "emma = nltk.corpus.gutenberg.words('austen-emma.txt')\n",
    "from collections import Counter\n",
    "longwords = (word.lower() for word in emma if len(word) >= 16)\n",
    "longword_counts = Counter(longwords)\n",
    "print('\\n'.join(['%20s occurs %d times' % (word, count) \n",
    "                 for word, count in longword_counts.most_common()]))"
   ]
  },
  {
   "cell_type": "code",
   "execution_count": null,
   "metadata": {},
   "outputs": [],
   "source": []
  }
 ],
 "metadata": {
  "celltoolbar": "Slideshow",
  "kernelspec": {
   "display_name": "Python 3",
   "language": "python",
   "name": "python3"
  },
  "language_info": {
   "codemirror_mode": {
    "name": "ipython",
    "version": 3
   },
   "file_extension": ".py",
   "mimetype": "text/x-python",
   "name": "python",
   "nbconvert_exporter": "python",
   "pygments_lexer": "ipython3",
   "version": "3.6.8"
  }
 },
 "nbformat": 4,
 "nbformat_minor": 2
}
